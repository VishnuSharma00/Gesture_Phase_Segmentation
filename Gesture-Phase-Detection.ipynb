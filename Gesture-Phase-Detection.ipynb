{
 "cells": [
  {
   "cell_type": "markdown",
   "metadata": {},
   "source": [
    "# Gesture Phase Segmentation"
   ]
  },
  {
   "cell_type": "markdown",
   "metadata": {},
   "source": [
    "# 1. Loading the Dataset"
   ]
  },
  {
   "cell_type": "code",
   "execution_count": 1,
   "metadata": {},
   "outputs": [],
   "source": [
    "%matplotlib inline\n",
    "import pandas as pd\n",
    "\n",
    "import numpy as np\n",
    "\n",
    "from sklearn.model_selection import train_test_split\n",
    "from sklearn import model_selection, metrics\n",
    "from sklearn import preprocessing\n",
    "from sklearn.utils import shuffle\n",
    "from sklearn.preprocessing import StandardScaler\n",
    "\n",
    "import matplotlib\n",
    "import matplotlib.pyplot as plt"
   ]
  },
  {
   "cell_type": "markdown",
   "metadata": {},
   "source": [
    "### 1.1 Reading the '.csv' Files"
   ]
  },
  {
   "cell_type": "code",
   "execution_count": 5,
   "metadata": {},
   "outputs": [],
   "source": [
    "# read .csv from provided dataset\n",
    "csv_filename01=\"a1_raw.csv\"\n",
    "csv_filename02=\"a1_va3.csv\"\n",
    "csv_filename03=\"a2_raw.csv\"\n",
    "csv_filename04=\"a2_va3.csv\"\n",
    "csv_filename05=\"a3_raw.csv\"\n",
    "csv_filename06=\"a3_va3.csv\"\n",
    "\n",
    "csv_filename07=\"b1_raw.csv\"\n",
    "csv_filename08=\"b1_va3.csv\"\n",
    "csv_filename09=\"b3_raw.csv\"\n",
    "csv_filename10=\"b3_va3.csv\"\n",
    "\n",
    "csv_filename11=\"c1_raw.csv\"\n",
    "csv_filename12=\"c1_va3.csv\"\n",
    "csv_filename13=\"c3_raw.csv\"\n",
    "csv_filename14=\"c3_va3.csv\"\n",
    "\n",
    "# df=pd.read_csv(csv_filename,index_col=0)\n",
    "df1=pd.read_csv(\"a1_raw.csv\" , skiprows=[1,2,3,4])\n",
    "df2=pd.read_csv(\"a1_va3.csv\")\n",
    "df3=pd.read_csv(\"a2_raw.csv\" , skiprows=[1,2,3,4])\n",
    "df4=pd.read_csv(\"a2_va3.csv\")\n",
    "df5=pd.read_csv(\"a3_raw.csv\" , skiprows=[1,2,3,4])\n",
    "df6=pd.read_csv(\"a3_va3.csv\")\n",
    "df7=pd.read_csv(\"b1_raw.csv\" , skiprows=[1,2,3,4])\n",
    "df8=pd.read_csv(\"b1_va3.csv\")\n",
    "df9=pd.read_csv(\"b3_raw.csv\" , skiprows=[1,2,3,4])\n",
    "df10=pd.read_csv(csv_filename10)\n",
    "df11=pd.read_csv(csv_filename11 , skiprows=[1,2,3,4])\n",
    "df12=pd.read_csv(csv_filename12)\n",
    "df13=pd.read_csv(csv_filename13 , skiprows=[1,2,3,4])\n",
    "df14=pd.read_csv(csv_filename14)"
   ]
  },
  {
   "cell_type": "markdown",
   "metadata": {},
   "source": [
    "### 1.2 Removing the 'timestamp' & 'phase' labels"
   ]
  },
  {
   "cell_type": "code",
   "execution_count": 6,
   "metadata": {},
   "outputs": [],
   "source": [
    "df1.drop('timestamp',axis=1,inplace=True)\n",
    "df1.drop('phase',axis=1,inplace=True)\n",
    "df3.drop('timestamp',axis=1,inplace=True)\n",
    "df3.drop('phase',axis=1,inplace=True)\n",
    "df5.drop('timestamp',axis=1,inplace=True)\n",
    "df5.drop('phase',axis=1,inplace=True)\n",
    "df7.drop('timestamp',axis=1,inplace=True)\n",
    "df7.drop('phase',axis=1,inplace=True)\n",
    "df9.drop('timestamp',axis=1,inplace=True)\n",
    "df9.drop('phase',axis=1,inplace=True)\n",
    "df11.drop('timestamp',axis=1,inplace=True)\n",
    "df11.drop('phase',axis=1,inplace=True)\n",
    "df13.drop('timestamp',axis=1,inplace=True)\n",
    "df13.drop('phase',axis=1,inplace=True)"
   ]
  },
  {
   "cell_type": "markdown",
   "metadata": {},
   "source": [
    "### 1.3 Visualising the Table 1"
   ]
  },
  {
   "cell_type": "code",
   "execution_count": 8,
   "metadata": {
    "scrolled": false
   },
   "outputs": [
    {
     "data": {
      "text/html": [
       "<div>\n",
       "<style scoped>\n",
       "    .dataframe tbody tr th:only-of-type {\n",
       "        vertical-align: middle;\n",
       "    }\n",
       "\n",
       "    .dataframe tbody tr th {\n",
       "        vertical-align: top;\n",
       "    }\n",
       "\n",
       "    .dataframe thead th {\n",
       "        text-align: right;\n",
       "    }\n",
       "</style>\n",
       "<table border=\"1\" class=\"dataframe\">\n",
       "  <thead>\n",
       "    <tr style=\"text-align: right;\">\n",
       "      <th></th>\n",
       "      <th>lhx</th>\n",
       "      <th>lhy</th>\n",
       "      <th>lhz</th>\n",
       "      <th>rhx</th>\n",
       "      <th>rhy</th>\n",
       "      <th>rhz</th>\n",
       "      <th>hx</th>\n",
       "      <th>hy</th>\n",
       "      <th>hz</th>\n",
       "      <th>sx</th>\n",
       "      <th>sy</th>\n",
       "      <th>sz</th>\n",
       "      <th>lwx</th>\n",
       "      <th>lwy</th>\n",
       "      <th>lwz</th>\n",
       "      <th>rwx</th>\n",
       "      <th>rwy</th>\n",
       "      <th>rwz</th>\n",
       "    </tr>\n",
       "  </thead>\n",
       "  <tbody>\n",
       "    <tr>\n",
       "      <td>0</td>\n",
       "      <td>5.003160</td>\n",
       "      <td>4.278530</td>\n",
       "      <td>1.542866</td>\n",
       "      <td>4.985812</td>\n",
       "      <td>4.182155</td>\n",
       "      <td>1.520330</td>\n",
       "      <td>5.037557</td>\n",
       "      <td>1.619226</td>\n",
       "      <td>1.778925</td>\n",
       "      <td>5.052367</td>\n",
       "      <td>4.225485</td>\n",
       "      <td>1.775536</td>\n",
       "      <td>4.983912</td>\n",
       "      <td>4.296833</td>\n",
       "      <td>1.569889</td>\n",
       "      <td>5.193762</td>\n",
       "      <td>4.335417</td>\n",
       "      <td>1.560144</td>\n",
       "    </tr>\n",
       "    <tr>\n",
       "      <td>1</td>\n",
       "      <td>5.064488</td>\n",
       "      <td>4.290401</td>\n",
       "      <td>1.542146</td>\n",
       "      <td>4.955739</td>\n",
       "      <td>4.163175</td>\n",
       "      <td>1.511876</td>\n",
       "      <td>5.037724</td>\n",
       "      <td>1.618397</td>\n",
       "      <td>1.779722</td>\n",
       "      <td>5.045395</td>\n",
       "      <td>4.223284</td>\n",
       "      <td>1.777401</td>\n",
       "      <td>5.000410</td>\n",
       "      <td>4.301358</td>\n",
       "      <td>1.566544</td>\n",
       "      <td>5.164159</td>\n",
       "      <td>4.313107</td>\n",
       "      <td>1.552097</td>\n",
       "    </tr>\n",
       "    <tr>\n",
       "      <td>2</td>\n",
       "      <td>5.067825</td>\n",
       "      <td>4.290883</td>\n",
       "      <td>1.542058</td>\n",
       "      <td>4.928284</td>\n",
       "      <td>4.157637</td>\n",
       "      <td>1.511306</td>\n",
       "      <td>5.038332</td>\n",
       "      <td>1.618043</td>\n",
       "      <td>1.780080</td>\n",
       "      <td>5.045374</td>\n",
       "      <td>4.223690</td>\n",
       "      <td>1.777571</td>\n",
       "      <td>5.001656</td>\n",
       "      <td>4.299812</td>\n",
       "      <td>1.566537</td>\n",
       "      <td>5.136817</td>\n",
       "      <td>4.307087</td>\n",
       "      <td>1.551576</td>\n",
       "    </tr>\n",
       "    <tr>\n",
       "      <td>3</td>\n",
       "      <td>5.070332</td>\n",
       "      <td>4.290677</td>\n",
       "      <td>1.541985</td>\n",
       "      <td>4.916637</td>\n",
       "      <td>4.151067</td>\n",
       "      <td>1.510510</td>\n",
       "      <td>5.038742</td>\n",
       "      <td>1.618044</td>\n",
       "      <td>1.780114</td>\n",
       "      <td>5.045767</td>\n",
       "      <td>4.224827</td>\n",
       "      <td>1.777669</td>\n",
       "      <td>5.002672</td>\n",
       "      <td>4.298810</td>\n",
       "      <td>1.566489</td>\n",
       "      <td>5.125220</td>\n",
       "      <td>4.300282</td>\n",
       "      <td>1.550805</td>\n",
       "    </tr>\n",
       "    <tr>\n",
       "      <td>4</td>\n",
       "      <td>5.071611</td>\n",
       "      <td>4.290927</td>\n",
       "      <td>1.542046</td>\n",
       "      <td>4.906132</td>\n",
       "      <td>4.143034</td>\n",
       "      <td>1.509449</td>\n",
       "      <td>5.042224</td>\n",
       "      <td>1.618561</td>\n",
       "      <td>1.780209</td>\n",
       "      <td>5.047422</td>\n",
       "      <td>4.223671</td>\n",
       "      <td>1.778054</td>\n",
       "      <td>5.012298</td>\n",
       "      <td>4.298582</td>\n",
       "      <td>1.565061</td>\n",
       "      <td>5.114789</td>\n",
       "      <td>4.292008</td>\n",
       "      <td>1.549765</td>\n",
       "    </tr>\n",
       "  </tbody>\n",
       "</table>\n",
       "</div>"
      ],
      "text/plain": [
       "        lhx       lhy       lhz       rhx       rhy       rhz        hx  \\\n",
       "0  5.003160  4.278530  1.542866  4.985812  4.182155  1.520330  5.037557   \n",
       "1  5.064488  4.290401  1.542146  4.955739  4.163175  1.511876  5.037724   \n",
       "2  5.067825  4.290883  1.542058  4.928284  4.157637  1.511306  5.038332   \n",
       "3  5.070332  4.290677  1.541985  4.916637  4.151067  1.510510  5.038742   \n",
       "4  5.071611  4.290927  1.542046  4.906132  4.143034  1.509449  5.042224   \n",
       "\n",
       "         hy        hz        sx        sy        sz       lwx       lwy  \\\n",
       "0  1.619226  1.778925  5.052367  4.225485  1.775536  4.983912  4.296833   \n",
       "1  1.618397  1.779722  5.045395  4.223284  1.777401  5.000410  4.301358   \n",
       "2  1.618043  1.780080  5.045374  4.223690  1.777571  5.001656  4.299812   \n",
       "3  1.618044  1.780114  5.045767  4.224827  1.777669  5.002672  4.298810   \n",
       "4  1.618561  1.780209  5.047422  4.223671  1.778054  5.012298  4.298582   \n",
       "\n",
       "        lwz       rwx       rwy       rwz  \n",
       "0  1.569889  5.193762  4.335417  1.560144  \n",
       "1  1.566544  5.164159  4.313107  1.552097  \n",
       "2  1.566537  5.136817  4.307087  1.551576  \n",
       "3  1.566489  5.125220  4.300282  1.550805  \n",
       "4  1.565061  5.114789  4.292008  1.549765  "
      ]
     },
     "execution_count": 8,
     "metadata": {},
     "output_type": "execute_result"
    }
   ],
   "source": [
    "df1.head()"
   ]
  },
  {
   "cell_type": "code",
   "execution_count": 9,
   "metadata": {},
   "outputs": [
    {
     "data": {
      "text/plain": [
       "(1743, 18)"
      ]
     },
     "execution_count": 9,
     "metadata": {},
     "output_type": "execute_result"
    }
   ],
   "source": [
    "df1.shape"
   ]
  },
  {
   "cell_type": "markdown",
   "metadata": {},
   "source": [
    "### 1.4 Visualising the Table 2"
   ]
  },
  {
   "cell_type": "code",
   "execution_count": 10,
   "metadata": {
    "scrolled": true
   },
   "outputs": [
    {
     "data": {
      "text/html": [
       "<div>\n",
       "<style scoped>\n",
       "    .dataframe tbody tr th:only-of-type {\n",
       "        vertical-align: middle;\n",
       "    }\n",
       "\n",
       "    .dataframe tbody tr th {\n",
       "        vertical-align: top;\n",
       "    }\n",
       "\n",
       "    .dataframe thead th {\n",
       "        text-align: right;\n",
       "    }\n",
       "</style>\n",
       "<table border=\"1\" class=\"dataframe\">\n",
       "  <thead>\n",
       "    <tr style=\"text-align: right;\">\n",
       "      <th></th>\n",
       "      <th>1</th>\n",
       "      <th>2</th>\n",
       "      <th>3</th>\n",
       "      <th>4</th>\n",
       "      <th>5</th>\n",
       "      <th>6</th>\n",
       "      <th>7</th>\n",
       "      <th>8</th>\n",
       "      <th>9</th>\n",
       "      <th>10</th>\n",
       "      <th>...</th>\n",
       "      <th>24</th>\n",
       "      <th>25</th>\n",
       "      <th>26</th>\n",
       "      <th>27</th>\n",
       "      <th>28</th>\n",
       "      <th>29</th>\n",
       "      <th>30</th>\n",
       "      <th>31</th>\n",
       "      <th>32</th>\n",
       "      <th>Phase</th>\n",
       "    </tr>\n",
       "  </thead>\n",
       "  <tbody>\n",
       "    <tr>\n",
       "      <td>0</td>\n",
       "      <td>-0.005009</td>\n",
       "      <td>-0.000964</td>\n",
       "      <td>0.000573</td>\n",
       "      <td>0.008623</td>\n",
       "      <td>0.005667</td>\n",
       "      <td>0.001302</td>\n",
       "      <td>-0.000631</td>\n",
       "      <td>0.000130</td>\n",
       "      <td>-0.000048</td>\n",
       "      <td>0.007762</td>\n",
       "      <td>...</td>\n",
       "      <td>1.880800e-04</td>\n",
       "      <td>0.005133</td>\n",
       "      <td>0.010400</td>\n",
       "      <td>0.000646</td>\n",
       "      <td>0.007871</td>\n",
       "      <td>0.004631</td>\n",
       "      <td>0.000963</td>\n",
       "      <td>0.000092</td>\n",
       "      <td>0.000438</td>\n",
       "      <td>D</td>\n",
       "    </tr>\n",
       "    <tr>\n",
       "      <td>1</td>\n",
       "      <td>0.004905</td>\n",
       "      <td>0.001209</td>\n",
       "      <td>-0.000649</td>\n",
       "      <td>0.004737</td>\n",
       "      <td>0.003166</td>\n",
       "      <td>0.000819</td>\n",
       "      <td>-0.000572</td>\n",
       "      <td>-0.000015</td>\n",
       "      <td>0.000023</td>\n",
       "      <td>0.002706</td>\n",
       "      <td>...</td>\n",
       "      <td>-7.500000e-07</td>\n",
       "      <td>0.005093</td>\n",
       "      <td>0.005756</td>\n",
       "      <td>0.000573</td>\n",
       "      <td>0.003459</td>\n",
       "      <td>0.000730</td>\n",
       "      <td>0.000332</td>\n",
       "      <td>0.000012</td>\n",
       "      <td>0.000433</td>\n",
       "      <td>D</td>\n",
       "    </tr>\n",
       "    <tr>\n",
       "      <td>2</td>\n",
       "      <td>-0.002393</td>\n",
       "      <td>-0.000216</td>\n",
       "      <td>0.000136</td>\n",
       "      <td>0.003028</td>\n",
       "      <td>0.001212</td>\n",
       "      <td>0.000336</td>\n",
       "      <td>-0.000449</td>\n",
       "      <td>0.000017</td>\n",
       "      <td>0.000047</td>\n",
       "      <td>0.002868</td>\n",
       "      <td>...</td>\n",
       "      <td>-3.920000e-05</td>\n",
       "      <td>0.002406</td>\n",
       "      <td>0.003279</td>\n",
       "      <td>0.000452</td>\n",
       "      <td>0.003261</td>\n",
       "      <td>0.002412</td>\n",
       "      <td>0.000852</td>\n",
       "      <td>0.000042</td>\n",
       "      <td>0.000202</td>\n",
       "      <td>D</td>\n",
       "    </tr>\n",
       "    <tr>\n",
       "      <td>3</td>\n",
       "      <td>-0.001394</td>\n",
       "      <td>-0.000242</td>\n",
       "      <td>0.000056</td>\n",
       "      <td>0.001182</td>\n",
       "      <td>0.000575</td>\n",
       "      <td>0.000225</td>\n",
       "      <td>-0.000479</td>\n",
       "      <td>-0.000050</td>\n",
       "      <td>0.000104</td>\n",
       "      <td>0.001171</td>\n",
       "      <td>...</td>\n",
       "      <td>-3.184000e-05</td>\n",
       "      <td>0.001416</td>\n",
       "      <td>0.001334</td>\n",
       "      <td>0.000493</td>\n",
       "      <td>0.001358</td>\n",
       "      <td>0.000313</td>\n",
       "      <td>0.000611</td>\n",
       "      <td>0.000029</td>\n",
       "      <td>0.000596</td>\n",
       "      <td>D</td>\n",
       "    </tr>\n",
       "    <tr>\n",
       "      <td>4</td>\n",
       "      <td>-0.000156</td>\n",
       "      <td>-0.000004</td>\n",
       "      <td>0.000023</td>\n",
       "      <td>0.001585</td>\n",
       "      <td>0.000630</td>\n",
       "      <td>0.000094</td>\n",
       "      <td>-0.000303</td>\n",
       "      <td>0.000097</td>\n",
       "      <td>0.000065</td>\n",
       "      <td>0.001579</td>\n",
       "      <td>...</td>\n",
       "      <td>-2.015000e-05</td>\n",
       "      <td>0.000158</td>\n",
       "      <td>0.001709</td>\n",
       "      <td>0.000325</td>\n",
       "      <td>0.001713</td>\n",
       "      <td>0.000203</td>\n",
       "      <td>0.000069</td>\n",
       "      <td>0.000038</td>\n",
       "      <td>0.000069</td>\n",
       "      <td>D</td>\n",
       "    </tr>\n",
       "  </tbody>\n",
       "</table>\n",
       "<p>5 rows × 33 columns</p>\n",
       "</div>"
      ],
      "text/plain": [
       "          1         2         3         4         5         6         7  \\\n",
       "0 -0.005009 -0.000964  0.000573  0.008623  0.005667  0.001302 -0.000631   \n",
       "1  0.004905  0.001209 -0.000649  0.004737  0.003166  0.000819 -0.000572   \n",
       "2 -0.002393 -0.000216  0.000136  0.003028  0.001212  0.000336 -0.000449   \n",
       "3 -0.001394 -0.000242  0.000056  0.001182  0.000575  0.000225 -0.000479   \n",
       "4 -0.000156 -0.000004  0.000023  0.001585  0.000630  0.000094 -0.000303   \n",
       "\n",
       "          8         9        10  ...            24        25        26  \\\n",
       "0  0.000130 -0.000048  0.007762  ...  1.880800e-04  0.005133  0.010400   \n",
       "1 -0.000015  0.000023  0.002706  ... -7.500000e-07  0.005093  0.005756   \n",
       "2  0.000017  0.000047  0.002868  ... -3.920000e-05  0.002406  0.003279   \n",
       "3 -0.000050  0.000104  0.001171  ... -3.184000e-05  0.001416  0.001334   \n",
       "4  0.000097  0.000065  0.001579  ... -2.015000e-05  0.000158  0.001709   \n",
       "\n",
       "         27        28        29        30        31        32  Phase  \n",
       "0  0.000646  0.007871  0.004631  0.000963  0.000092  0.000438      D  \n",
       "1  0.000573  0.003459  0.000730  0.000332  0.000012  0.000433      D  \n",
       "2  0.000452  0.003261  0.002412  0.000852  0.000042  0.000202      D  \n",
       "3  0.000493  0.001358  0.000313  0.000611  0.000029  0.000596      D  \n",
       "4  0.000325  0.001713  0.000203  0.000069  0.000038  0.000069      D  \n",
       "\n",
       "[5 rows x 33 columns]"
      ]
     },
     "execution_count": 10,
     "metadata": {},
     "output_type": "execute_result"
    }
   ],
   "source": [
    "df2.head()"
   ]
  },
  {
   "cell_type": "code",
   "execution_count": 11,
   "metadata": {},
   "outputs": [
    {
     "data": {
      "text/plain": [
       "(1743, 33)"
      ]
     },
     "execution_count": 11,
     "metadata": {},
     "output_type": "execute_result"
    }
   ],
   "source": [
    "df2.shape"
   ]
  },
  {
   "cell_type": "code",
   "execution_count": 12,
   "metadata": {},
   "outputs": [
    {
     "data": {
      "text/plain": [
       "array(['D', 'P', 'S', 'H', 'R'], dtype=object)"
      ]
     },
     "execution_count": 12,
     "metadata": {},
     "output_type": "execute_result"
    }
   ],
   "source": [
    "df2.Phase.unique()"
   ]
  },
  {
   "cell_type": "markdown",
   "metadata": {},
   "source": [
    "Visualising the Column Labels in the two tables."
   ]
  },
  {
   "cell_type": "code",
   "execution_count": 13,
   "metadata": {
    "scrolled": true
   },
   "outputs": [
    {
     "data": {
      "text/plain": [
       "Index(['lhx', 'lhy', 'lhz', 'rhx', 'rhy', 'rhz', 'hx', 'hy', 'hz', 'sx', 'sy',\n",
       "       'sz', 'lwx', 'lwy', 'lwz', 'rwx', 'rwy', 'rwz'],\n",
       "      dtype='object')"
      ]
     },
     "execution_count": 13,
     "metadata": {},
     "output_type": "execute_result"
    }
   ],
   "source": [
    "df1.columns"
   ]
  },
  {
   "cell_type": "code",
   "execution_count": 14,
   "metadata": {},
   "outputs": [
    {
     "data": {
      "text/plain": [
       "Index(['1', '2', '3', '4', '5', '6', '7', '8', '9', '10', '11', '12', '13',\n",
       "       '14', '15', '16', '17', '18', '19', '20', '21', '22', '23', '24', '25',\n",
       "       '26', '27', '28', '29', '30', '31', '32', 'Phase'],\n",
       "      dtype='object')"
      ]
     },
     "execution_count": 14,
     "metadata": {},
     "output_type": "execute_result"
    }
   ],
   "source": [
    "df2.columns"
   ]
  },
  {
   "cell_type": "markdown",
   "metadata": {},
   "source": [
    "### 1.5 Renaming 'Phase' Column for convinience"
   ]
  },
  {
   "cell_type": "code",
   "execution_count": 15,
   "metadata": {},
   "outputs": [],
   "source": [
    "df2.rename(columns={'Phase': 'phase'}, inplace=True)\n",
    "df4.rename(columns={'Phase': 'phase'}, inplace=True)\n",
    "df6.rename(columns={'Phase': 'phase'}, inplace=True)\n",
    "df8.rename(columns={'Phase': 'phase'}, inplace=True)\n",
    "df10.rename(columns={'Phase': 'phase'}, inplace=True)\n",
    "df12.rename(columns={'Phase': 'phase'}, inplace=True)\n",
    "df14.rename(columns={'Phase': 'phase'}, inplace=True)"
   ]
  },
  {
   "cell_type": "markdown",
   "metadata": {},
   "source": [
    "___"
   ]
  },
  {
   "cell_type": "markdown",
   "metadata": {},
   "source": [
    "### 1.6 Concatenating the Dataframes "
   ]
  },
  {
   "cell_type": "code",
   "execution_count": 16,
   "metadata": {},
   "outputs": [],
   "source": [
    "p1 = pd.concat([df1,df2],axis=1)\n",
    "p2 = pd.concat([df3,df4],axis=1)\n",
    "p3 = pd.concat([df5,df6],axis=1)\n",
    "p4 = pd.concat([df7,df8],axis=1)\n",
    "p5 = pd.concat([df9,df10],axis=1)\n",
    "p6 = pd.concat([df11,df12],axis=1)\n",
    "p7 = pd.concat([df13,df14],axis=1)"
   ]
  },
  {
   "cell_type": "code",
   "execution_count": 17,
   "metadata": {},
   "outputs": [],
   "source": [
    "df= pd.concat([p1,p2,p3,p4,p5,p6,p7])"
   ]
  },
  {
   "cell_type": "markdown",
   "metadata": {},
   "source": [
    "### 1.7 Encoding Phase Labels and Estimating number of instances of Differrent Labels"
   ]
  },
  {
   "cell_type": "code",
   "execution_count": 18,
   "metadata": {},
   "outputs": [
    {
     "data": {
      "text/plain": [
       "array(['D', 'P', 'S', 'H', 'R'], dtype=object)"
      ]
     },
     "execution_count": 18,
     "metadata": {},
     "output_type": "execute_result"
    }
   ],
   "source": [
    "df.phase.unique()"
   ]
  },
  {
   "cell_type": "code",
   "execution_count": 19,
   "metadata": {},
   "outputs": [],
   "source": [
    "from sklearn.preprocessing import LabelEncoder\n",
    "le = LabelEncoder()\n",
    "df['phase'] = le.fit_transform(df['phase'])"
   ]
  },
  {
   "cell_type": "code",
   "execution_count": 20,
   "metadata": {},
   "outputs": [
    {
     "data": {
      "text/html": [
       "<div>\n",
       "<style scoped>\n",
       "    .dataframe tbody tr th:only-of-type {\n",
       "        vertical-align: middle;\n",
       "    }\n",
       "\n",
       "    .dataframe tbody tr th {\n",
       "        vertical-align: top;\n",
       "    }\n",
       "\n",
       "    .dataframe thead th {\n",
       "        text-align: right;\n",
       "    }\n",
       "</style>\n",
       "<table border=\"1\" class=\"dataframe\">\n",
       "  <thead>\n",
       "    <tr style=\"text-align: right;\">\n",
       "      <th></th>\n",
       "      <th>lhx</th>\n",
       "      <th>lhy</th>\n",
       "      <th>lhz</th>\n",
       "      <th>rhx</th>\n",
       "      <th>rhy</th>\n",
       "      <th>rhz</th>\n",
       "      <th>hx</th>\n",
       "      <th>hy</th>\n",
       "      <th>hz</th>\n",
       "      <th>sx</th>\n",
       "      <th>...</th>\n",
       "      <th>23</th>\n",
       "      <th>24</th>\n",
       "      <th>25</th>\n",
       "      <th>26</th>\n",
       "      <th>27</th>\n",
       "      <th>28</th>\n",
       "      <th>29</th>\n",
       "      <th>30</th>\n",
       "      <th>31</th>\n",
       "      <th>32</th>\n",
       "    </tr>\n",
       "    <tr>\n",
       "      <th>phase</th>\n",
       "      <th></th>\n",
       "      <th></th>\n",
       "      <th></th>\n",
       "      <th></th>\n",
       "      <th></th>\n",
       "      <th></th>\n",
       "      <th></th>\n",
       "      <th></th>\n",
       "      <th></th>\n",
       "      <th></th>\n",
       "      <th></th>\n",
       "      <th></th>\n",
       "      <th></th>\n",
       "      <th></th>\n",
       "      <th></th>\n",
       "      <th></th>\n",
       "      <th></th>\n",
       "      <th></th>\n",
       "      <th></th>\n",
       "      <th></th>\n",
       "      <th></th>\n",
       "    </tr>\n",
       "  </thead>\n",
       "  <tbody>\n",
       "    <tr>\n",
       "      <td>0</td>\n",
       "      <td>2741</td>\n",
       "      <td>2741</td>\n",
       "      <td>2741</td>\n",
       "      <td>2741</td>\n",
       "      <td>2741</td>\n",
       "      <td>2741</td>\n",
       "      <td>2741</td>\n",
       "      <td>2741</td>\n",
       "      <td>2741</td>\n",
       "      <td>2741</td>\n",
       "      <td>...</td>\n",
       "      <td>2741</td>\n",
       "      <td>2741</td>\n",
       "      <td>2741</td>\n",
       "      <td>2741</td>\n",
       "      <td>2741</td>\n",
       "      <td>2741</td>\n",
       "      <td>2741</td>\n",
       "      <td>2741</td>\n",
       "      <td>2741</td>\n",
       "      <td>2741</td>\n",
       "    </tr>\n",
       "    <tr>\n",
       "      <td>1</td>\n",
       "      <td>998</td>\n",
       "      <td>998</td>\n",
       "      <td>998</td>\n",
       "      <td>998</td>\n",
       "      <td>998</td>\n",
       "      <td>998</td>\n",
       "      <td>998</td>\n",
       "      <td>998</td>\n",
       "      <td>998</td>\n",
       "      <td>998</td>\n",
       "      <td>...</td>\n",
       "      <td>998</td>\n",
       "      <td>998</td>\n",
       "      <td>998</td>\n",
       "      <td>998</td>\n",
       "      <td>998</td>\n",
       "      <td>998</td>\n",
       "      <td>998</td>\n",
       "      <td>998</td>\n",
       "      <td>998</td>\n",
       "      <td>998</td>\n",
       "    </tr>\n",
       "    <tr>\n",
       "      <td>2</td>\n",
       "      <td>2097</td>\n",
       "      <td>2097</td>\n",
       "      <td>2097</td>\n",
       "      <td>2097</td>\n",
       "      <td>2097</td>\n",
       "      <td>2097</td>\n",
       "      <td>2097</td>\n",
       "      <td>2097</td>\n",
       "      <td>2097</td>\n",
       "      <td>2097</td>\n",
       "      <td>...</td>\n",
       "      <td>2097</td>\n",
       "      <td>2097</td>\n",
       "      <td>2097</td>\n",
       "      <td>2097</td>\n",
       "      <td>2097</td>\n",
       "      <td>2097</td>\n",
       "      <td>2097</td>\n",
       "      <td>2097</td>\n",
       "      <td>2097</td>\n",
       "      <td>2097</td>\n",
       "    </tr>\n",
       "    <tr>\n",
       "      <td>3</td>\n",
       "      <td>1087</td>\n",
       "      <td>1087</td>\n",
       "      <td>1087</td>\n",
       "      <td>1087</td>\n",
       "      <td>1087</td>\n",
       "      <td>1087</td>\n",
       "      <td>1087</td>\n",
       "      <td>1087</td>\n",
       "      <td>1087</td>\n",
       "      <td>1087</td>\n",
       "      <td>...</td>\n",
       "      <td>1087</td>\n",
       "      <td>1087</td>\n",
       "      <td>1087</td>\n",
       "      <td>1087</td>\n",
       "      <td>1087</td>\n",
       "      <td>1087</td>\n",
       "      <td>1087</td>\n",
       "      <td>1087</td>\n",
       "      <td>1087</td>\n",
       "      <td>1087</td>\n",
       "    </tr>\n",
       "    <tr>\n",
       "      <td>4</td>\n",
       "      <td>2950</td>\n",
       "      <td>2950</td>\n",
       "      <td>2950</td>\n",
       "      <td>2950</td>\n",
       "      <td>2950</td>\n",
       "      <td>2950</td>\n",
       "      <td>2950</td>\n",
       "      <td>2950</td>\n",
       "      <td>2950</td>\n",
       "      <td>2950</td>\n",
       "      <td>...</td>\n",
       "      <td>2950</td>\n",
       "      <td>2950</td>\n",
       "      <td>2950</td>\n",
       "      <td>2950</td>\n",
       "      <td>2950</td>\n",
       "      <td>2950</td>\n",
       "      <td>2950</td>\n",
       "      <td>2950</td>\n",
       "      <td>2950</td>\n",
       "      <td>2950</td>\n",
       "    </tr>\n",
       "  </tbody>\n",
       "</table>\n",
       "<p>5 rows × 50 columns</p>\n",
       "</div>"
      ],
      "text/plain": [
       "        lhx   lhy   lhz   rhx   rhy   rhz    hx    hy    hz    sx  ...    23  \\\n",
       "phase                                                              ...         \n",
       "0      2741  2741  2741  2741  2741  2741  2741  2741  2741  2741  ...  2741   \n",
       "1       998   998   998   998   998   998   998   998   998   998  ...   998   \n",
       "2      2097  2097  2097  2097  2097  2097  2097  2097  2097  2097  ...  2097   \n",
       "3      1087  1087  1087  1087  1087  1087  1087  1087  1087  1087  ...  1087   \n",
       "4      2950  2950  2950  2950  2950  2950  2950  2950  2950  2950  ...  2950   \n",
       "\n",
       "         24    25    26    27    28    29    30    31    32  \n",
       "phase                                                        \n",
       "0      2741  2741  2741  2741  2741  2741  2741  2741  2741  \n",
       "1       998   998   998   998   998   998   998   998   998  \n",
       "2      2097  2097  2097  2097  2097  2097  2097  2097  2097  \n",
       "3      1087  1087  1087  1087  1087  1087  1087  1087  1087  \n",
       "4      2950  2950  2950  2950  2950  2950  2950  2950  2950  \n",
       "\n",
       "[5 rows x 50 columns]"
      ]
     },
     "execution_count": 20,
     "metadata": {},
     "output_type": "execute_result"
    }
   ],
   "source": [
    "df.groupby('phase').count()"
   ]
  },
  {
   "cell_type": "code",
   "execution_count": 21,
   "metadata": {},
   "outputs": [
    {
     "data": {
      "text/plain": [
       "array([0, 2, 4, 1, 3], dtype=int64)"
      ]
     },
     "execution_count": 21,
     "metadata": {},
     "output_type": "execute_result"
    }
   ],
   "source": [
    "df.phase.unique()"
   ]
  },
  {
   "cell_type": "markdown",
   "metadata": {},
   "source": [
    "___"
   ]
  },
  {
   "cell_type": "markdown",
   "metadata": {},
   "source": [
    "### 1.8 Randomising the Data before Splitting"
   ]
  },
  {
   "cell_type": "markdown",
   "metadata": {},
   "source": [
    "#### Before:"
   ]
  },
  {
   "cell_type": "code",
   "execution_count": 22,
   "metadata": {},
   "outputs": [
    {
     "data": {
      "text/html": [
       "<div>\n",
       "<style scoped>\n",
       "    .dataframe tbody tr th:only-of-type {\n",
       "        vertical-align: middle;\n",
       "    }\n",
       "\n",
       "    .dataframe tbody tr th {\n",
       "        vertical-align: top;\n",
       "    }\n",
       "\n",
       "    .dataframe thead th {\n",
       "        text-align: right;\n",
       "    }\n",
       "</style>\n",
       "<table border=\"1\" class=\"dataframe\">\n",
       "  <thead>\n",
       "    <tr style=\"text-align: right;\">\n",
       "      <th></th>\n",
       "      <th>lhx</th>\n",
       "      <th>lhy</th>\n",
       "      <th>lhz</th>\n",
       "      <th>rhx</th>\n",
       "      <th>rhy</th>\n",
       "      <th>rhz</th>\n",
       "      <th>hx</th>\n",
       "      <th>hy</th>\n",
       "      <th>hz</th>\n",
       "      <th>sx</th>\n",
       "      <th>...</th>\n",
       "      <th>24</th>\n",
       "      <th>25</th>\n",
       "      <th>26</th>\n",
       "      <th>27</th>\n",
       "      <th>28</th>\n",
       "      <th>29</th>\n",
       "      <th>30</th>\n",
       "      <th>31</th>\n",
       "      <th>32</th>\n",
       "      <th>phase</th>\n",
       "    </tr>\n",
       "  </thead>\n",
       "  <tbody>\n",
       "    <tr>\n",
       "      <td>0</td>\n",
       "      <td>5.003160</td>\n",
       "      <td>4.278530</td>\n",
       "      <td>1.542866</td>\n",
       "      <td>4.985812</td>\n",
       "      <td>4.182155</td>\n",
       "      <td>1.520330</td>\n",
       "      <td>5.037557</td>\n",
       "      <td>1.619226</td>\n",
       "      <td>1.778925</td>\n",
       "      <td>5.052367</td>\n",
       "      <td>...</td>\n",
       "      <td>1.880800e-04</td>\n",
       "      <td>0.005133</td>\n",
       "      <td>0.010400</td>\n",
       "      <td>0.000646</td>\n",
       "      <td>0.007871</td>\n",
       "      <td>0.004631</td>\n",
       "      <td>0.000963</td>\n",
       "      <td>0.000092</td>\n",
       "      <td>0.000438</td>\n",
       "      <td>0</td>\n",
       "    </tr>\n",
       "    <tr>\n",
       "      <td>1</td>\n",
       "      <td>5.064488</td>\n",
       "      <td>4.290401</td>\n",
       "      <td>1.542146</td>\n",
       "      <td>4.955739</td>\n",
       "      <td>4.163175</td>\n",
       "      <td>1.511876</td>\n",
       "      <td>5.037724</td>\n",
       "      <td>1.618397</td>\n",
       "      <td>1.779722</td>\n",
       "      <td>5.045395</td>\n",
       "      <td>...</td>\n",
       "      <td>-7.500000e-07</td>\n",
       "      <td>0.005093</td>\n",
       "      <td>0.005756</td>\n",
       "      <td>0.000573</td>\n",
       "      <td>0.003459</td>\n",
       "      <td>0.000730</td>\n",
       "      <td>0.000332</td>\n",
       "      <td>0.000012</td>\n",
       "      <td>0.000433</td>\n",
       "      <td>0</td>\n",
       "    </tr>\n",
       "    <tr>\n",
       "      <td>2</td>\n",
       "      <td>5.067825</td>\n",
       "      <td>4.290883</td>\n",
       "      <td>1.542058</td>\n",
       "      <td>4.928284</td>\n",
       "      <td>4.157637</td>\n",
       "      <td>1.511306</td>\n",
       "      <td>5.038332</td>\n",
       "      <td>1.618043</td>\n",
       "      <td>1.780080</td>\n",
       "      <td>5.045374</td>\n",
       "      <td>...</td>\n",
       "      <td>-3.920000e-05</td>\n",
       "      <td>0.002406</td>\n",
       "      <td>0.003279</td>\n",
       "      <td>0.000452</td>\n",
       "      <td>0.003261</td>\n",
       "      <td>0.002412</td>\n",
       "      <td>0.000852</td>\n",
       "      <td>0.000042</td>\n",
       "      <td>0.000202</td>\n",
       "      <td>0</td>\n",
       "    </tr>\n",
       "    <tr>\n",
       "      <td>3</td>\n",
       "      <td>5.070332</td>\n",
       "      <td>4.290677</td>\n",
       "      <td>1.541985</td>\n",
       "      <td>4.916637</td>\n",
       "      <td>4.151067</td>\n",
       "      <td>1.510510</td>\n",
       "      <td>5.038742</td>\n",
       "      <td>1.618044</td>\n",
       "      <td>1.780114</td>\n",
       "      <td>5.045767</td>\n",
       "      <td>...</td>\n",
       "      <td>-3.184000e-05</td>\n",
       "      <td>0.001416</td>\n",
       "      <td>0.001334</td>\n",
       "      <td>0.000493</td>\n",
       "      <td>0.001358</td>\n",
       "      <td>0.000313</td>\n",
       "      <td>0.000611</td>\n",
       "      <td>0.000029</td>\n",
       "      <td>0.000596</td>\n",
       "      <td>0</td>\n",
       "    </tr>\n",
       "    <tr>\n",
       "      <td>4</td>\n",
       "      <td>5.071611</td>\n",
       "      <td>4.290927</td>\n",
       "      <td>1.542046</td>\n",
       "      <td>4.906132</td>\n",
       "      <td>4.143034</td>\n",
       "      <td>1.509449</td>\n",
       "      <td>5.042224</td>\n",
       "      <td>1.618561</td>\n",
       "      <td>1.780209</td>\n",
       "      <td>5.047422</td>\n",
       "      <td>...</td>\n",
       "      <td>-2.015000e-05</td>\n",
       "      <td>0.000158</td>\n",
       "      <td>0.001709</td>\n",
       "      <td>0.000325</td>\n",
       "      <td>0.001713</td>\n",
       "      <td>0.000203</td>\n",
       "      <td>0.000069</td>\n",
       "      <td>0.000038</td>\n",
       "      <td>0.000069</td>\n",
       "      <td>0</td>\n",
       "    </tr>\n",
       "  </tbody>\n",
       "</table>\n",
       "<p>5 rows × 51 columns</p>\n",
       "</div>"
      ],
      "text/plain": [
       "        lhx       lhy       lhz       rhx       rhy       rhz        hx  \\\n",
       "0  5.003160  4.278530  1.542866  4.985812  4.182155  1.520330  5.037557   \n",
       "1  5.064488  4.290401  1.542146  4.955739  4.163175  1.511876  5.037724   \n",
       "2  5.067825  4.290883  1.542058  4.928284  4.157637  1.511306  5.038332   \n",
       "3  5.070332  4.290677  1.541985  4.916637  4.151067  1.510510  5.038742   \n",
       "4  5.071611  4.290927  1.542046  4.906132  4.143034  1.509449  5.042224   \n",
       "\n",
       "         hy        hz        sx  ...            24        25        26  \\\n",
       "0  1.619226  1.778925  5.052367  ...  1.880800e-04  0.005133  0.010400   \n",
       "1  1.618397  1.779722  5.045395  ... -7.500000e-07  0.005093  0.005756   \n",
       "2  1.618043  1.780080  5.045374  ... -3.920000e-05  0.002406  0.003279   \n",
       "3  1.618044  1.780114  5.045767  ... -3.184000e-05  0.001416  0.001334   \n",
       "4  1.618561  1.780209  5.047422  ... -2.015000e-05  0.000158  0.001709   \n",
       "\n",
       "         27        28        29        30        31        32  phase  \n",
       "0  0.000646  0.007871  0.004631  0.000963  0.000092  0.000438      0  \n",
       "1  0.000573  0.003459  0.000730  0.000332  0.000012  0.000433      0  \n",
       "2  0.000452  0.003261  0.002412  0.000852  0.000042  0.000202      0  \n",
       "3  0.000493  0.001358  0.000313  0.000611  0.000029  0.000596      0  \n",
       "4  0.000325  0.001713  0.000203  0.000069  0.000038  0.000069      0  \n",
       "\n",
       "[5 rows x 51 columns]"
      ]
     },
     "execution_count": 22,
     "metadata": {},
     "output_type": "execute_result"
    }
   ],
   "source": [
    "df.head()"
   ]
  },
  {
   "cell_type": "code",
   "execution_count": 23,
   "metadata": {},
   "outputs": [],
   "source": [
    "df = df.sample(frac=1)"
   ]
  },
  {
   "cell_type": "markdown",
   "metadata": {},
   "source": [
    "#### After:"
   ]
  },
  {
   "cell_type": "code",
   "execution_count": 24,
   "metadata": {},
   "outputs": [
    {
     "data": {
      "text/html": [
       "<div>\n",
       "<style scoped>\n",
       "    .dataframe tbody tr th:only-of-type {\n",
       "        vertical-align: middle;\n",
       "    }\n",
       "\n",
       "    .dataframe tbody tr th {\n",
       "        vertical-align: top;\n",
       "    }\n",
       "\n",
       "    .dataframe thead th {\n",
       "        text-align: right;\n",
       "    }\n",
       "</style>\n",
       "<table border=\"1\" class=\"dataframe\">\n",
       "  <thead>\n",
       "    <tr style=\"text-align: right;\">\n",
       "      <th></th>\n",
       "      <th>lhx</th>\n",
       "      <th>lhy</th>\n",
       "      <th>lhz</th>\n",
       "      <th>rhx</th>\n",
       "      <th>rhy</th>\n",
       "      <th>rhz</th>\n",
       "      <th>hx</th>\n",
       "      <th>hy</th>\n",
       "      <th>hz</th>\n",
       "      <th>sx</th>\n",
       "      <th>...</th>\n",
       "      <th>24</th>\n",
       "      <th>25</th>\n",
       "      <th>26</th>\n",
       "      <th>27</th>\n",
       "      <th>28</th>\n",
       "      <th>29</th>\n",
       "      <th>30</th>\n",
       "      <th>31</th>\n",
       "      <th>32</th>\n",
       "      <th>phase</th>\n",
       "    </tr>\n",
       "  </thead>\n",
       "  <tbody>\n",
       "    <tr>\n",
       "      <td>845</td>\n",
       "      <td>2.277555</td>\n",
       "      <td>3.970724</td>\n",
       "      <td>2.221838</td>\n",
       "      <td>3.381155</td>\n",
       "      <td>4.140748</td>\n",
       "      <td>2.336679</td>\n",
       "      <td>2.437081</td>\n",
       "      <td>0.824407</td>\n",
       "      <td>2.403795</td>\n",
       "      <td>2.478526</td>\n",
       "      <td>...</td>\n",
       "      <td>-0.000030</td>\n",
       "      <td>0.003264</td>\n",
       "      <td>0.000909</td>\n",
       "      <td>0.002579</td>\n",
       "      <td>0.000613</td>\n",
       "      <td>0.000417</td>\n",
       "      <td>0.000052</td>\n",
       "      <td>0.000314</td>\n",
       "      <td>0.000087</td>\n",
       "      <td>0</td>\n",
       "    </tr>\n",
       "    <tr>\n",
       "      <td>1575</td>\n",
       "      <td>5.123733</td>\n",
       "      <td>4.318799</td>\n",
       "      <td>1.464153</td>\n",
       "      <td>4.599277</td>\n",
       "      <td>4.306388</td>\n",
       "      <td>1.478625</td>\n",
       "      <td>5.195059</td>\n",
       "      <td>1.649535</td>\n",
       "      <td>1.781793</td>\n",
       "      <td>5.035421</td>\n",
       "      <td>...</td>\n",
       "      <td>-0.000047</td>\n",
       "      <td>0.000209</td>\n",
       "      <td>0.001220</td>\n",
       "      <td>0.000164</td>\n",
       "      <td>0.000974</td>\n",
       "      <td>0.000312</td>\n",
       "      <td>0.000114</td>\n",
       "      <td>0.000234</td>\n",
       "      <td>0.000073</td>\n",
       "      <td>0</td>\n",
       "    </tr>\n",
       "    <tr>\n",
       "      <td>90</td>\n",
       "      <td>1.764019</td>\n",
       "      <td>3.699169</td>\n",
       "      <td>1.972412</td>\n",
       "      <td>2.478628</td>\n",
       "      <td>3.989543</td>\n",
       "      <td>1.930437</td>\n",
       "      <td>2.601864</td>\n",
       "      <td>1.285705</td>\n",
       "      <td>2.239621</td>\n",
       "      <td>2.540034</td>\n",
       "      <td>...</td>\n",
       "      <td>0.000075</td>\n",
       "      <td>0.006555</td>\n",
       "      <td>0.005797</td>\n",
       "      <td>0.005964</td>\n",
       "      <td>0.006172</td>\n",
       "      <td>0.000310</td>\n",
       "      <td>0.000314</td>\n",
       "      <td>0.000276</td>\n",
       "      <td>0.000731</td>\n",
       "      <td>2</td>\n",
       "    </tr>\n",
       "    <tr>\n",
       "      <td>69</td>\n",
       "      <td>4.633566</td>\n",
       "      <td>4.880719</td>\n",
       "      <td>2.389491</td>\n",
       "      <td>4.782607</td>\n",
       "      <td>5.045462</td>\n",
       "      <td>2.559065</td>\n",
       "      <td>4.713011</td>\n",
       "      <td>4.707355</td>\n",
       "      <td>2.699297</td>\n",
       "      <td>4.669218</td>\n",
       "      <td>...</td>\n",
       "      <td>0.004366</td>\n",
       "      <td>0.013334</td>\n",
       "      <td>0.018616</td>\n",
       "      <td>0.011388</td>\n",
       "      <td>0.008123</td>\n",
       "      <td>0.010288</td>\n",
       "      <td>0.002335</td>\n",
       "      <td>0.008363</td>\n",
       "      <td>0.004494</td>\n",
       "      <td>4</td>\n",
       "    </tr>\n",
       "    <tr>\n",
       "      <td>48</td>\n",
       "      <td>4.543792</td>\n",
       "      <td>4.999423</td>\n",
       "      <td>2.461591</td>\n",
       "      <td>4.782104</td>\n",
       "      <td>4.910508</td>\n",
       "      <td>2.441726</td>\n",
       "      <td>4.661849</td>\n",
       "      <td>4.699667</td>\n",
       "      <td>2.731979</td>\n",
       "      <td>4.643966</td>\n",
       "      <td>...</td>\n",
       "      <td>0.000599</td>\n",
       "      <td>0.042015</td>\n",
       "      <td>0.018760</td>\n",
       "      <td>0.037367</td>\n",
       "      <td>0.015194</td>\n",
       "      <td>0.004883</td>\n",
       "      <td>0.003908</td>\n",
       "      <td>0.005057</td>\n",
       "      <td>0.001751</td>\n",
       "      <td>2</td>\n",
       "    </tr>\n",
       "  </tbody>\n",
       "</table>\n",
       "<p>5 rows × 51 columns</p>\n",
       "</div>"
      ],
      "text/plain": [
       "           lhx       lhy       lhz       rhx       rhy       rhz        hx  \\\n",
       "845   2.277555  3.970724  2.221838  3.381155  4.140748  2.336679  2.437081   \n",
       "1575  5.123733  4.318799  1.464153  4.599277  4.306388  1.478625  5.195059   \n",
       "90    1.764019  3.699169  1.972412  2.478628  3.989543  1.930437  2.601864   \n",
       "69    4.633566  4.880719  2.389491  4.782607  5.045462  2.559065  4.713011   \n",
       "48    4.543792  4.999423  2.461591  4.782104  4.910508  2.441726  4.661849   \n",
       "\n",
       "            hy        hz        sx  ...        24        25        26  \\\n",
       "845   0.824407  2.403795  2.478526  ... -0.000030  0.003264  0.000909   \n",
       "1575  1.649535  1.781793  5.035421  ... -0.000047  0.000209  0.001220   \n",
       "90    1.285705  2.239621  2.540034  ...  0.000075  0.006555  0.005797   \n",
       "69    4.707355  2.699297  4.669218  ...  0.004366  0.013334  0.018616   \n",
       "48    4.699667  2.731979  4.643966  ...  0.000599  0.042015  0.018760   \n",
       "\n",
       "            27        28        29        30        31        32  phase  \n",
       "845   0.002579  0.000613  0.000417  0.000052  0.000314  0.000087      0  \n",
       "1575  0.000164  0.000974  0.000312  0.000114  0.000234  0.000073      0  \n",
       "90    0.005964  0.006172  0.000310  0.000314  0.000276  0.000731      2  \n",
       "69    0.011388  0.008123  0.010288  0.002335  0.008363  0.004494      4  \n",
       "48    0.037367  0.015194  0.004883  0.003908  0.005057  0.001751      2  \n",
       "\n",
       "[5 rows x 51 columns]"
      ]
     },
     "execution_count": 24,
     "metadata": {},
     "output_type": "execute_result"
    }
   ],
   "source": [
    "df.head()"
   ]
  },
  {
   "cell_type": "markdown",
   "metadata": {},
   "source": [
    "### 1.9 Extracting the Feautre & Label Vector + Splitting into Test & Train (60:40)"
   ]
  },
  {
   "cell_type": "code",
   "execution_count": 25,
   "metadata": {},
   "outputs": [],
   "source": [
    "cols = list(df.columns)\n",
    "features = cols\n",
    "features.remove('phase')"
   ]
  },
  {
   "cell_type": "code",
   "execution_count": 26,
   "metadata": {},
   "outputs": [
    {
     "data": {
      "text/plain": [
       "50"
      ]
     },
     "execution_count": 26,
     "metadata": {},
     "output_type": "execute_result"
    }
   ],
   "source": [
    "len(features)"
   ]
  },
  {
   "cell_type": "code",
   "execution_count": 27,
   "metadata": {},
   "outputs": [
    {
     "data": {
      "text/plain": [
       "(9873, 50)"
      ]
     },
     "execution_count": 27,
     "metadata": {},
     "output_type": "execute_result"
    }
   ],
   "source": [
    "X = df[features]\n",
    "y = df['phase']\n",
    "X.shape"
   ]
  },
  {
   "cell_type": "code",
   "execution_count": 28,
   "metadata": {},
   "outputs": [],
   "source": [
    "# split dataset to 60% training and 40% testing\n",
    "X_train, X_test, y_train, y_test = model_selection.train_test_split(X, y, test_size=0.4, random_state=0)"
   ]
  },
  {
   "cell_type": "markdown",
   "metadata": {},
   "source": [
    "### 1.10 Normalize the Dataset for Easier Parameter Selection"
   ]
  },
  {
   "cell_type": "code",
   "execution_count": 29,
   "metadata": {},
   "outputs": [],
   "source": [
    "X_train = StandardScaler().fit_transform(X_train)\n",
    "X_test = StandardScaler().fit_transform(X_test)"
   ]
  },
  {
   "cell_type": "code",
   "execution_count": 30,
   "metadata": {},
   "outputs": [
    {
     "name": "stdout",
     "output_type": "stream",
     "text": [
      "(5923, 50) (5923,)\n"
     ]
    }
   ],
   "source": [
    "print(X_train.shape, y_train.shape)"
   ]
  },
  {
   "cell_type": "markdown",
   "metadata": {},
   "source": [
    "___"
   ]
  },
  {
   "cell_type": "markdown",
   "metadata": {},
   "source": [
    "# PCA - Principal Component Analysis"
   ]
  },
  {
   "cell_type": "code",
   "execution_count": 68,
   "metadata": {},
   "outputs": [
    {
     "data": {
      "text/plain": [
       "50"
      ]
     },
     "execution_count": 68,
     "metadata": {},
     "output_type": "execute_result"
    }
   ],
   "source": [
    "len(features)"
   ]
  },
  {
   "cell_type": "code",
   "execution_count": 66,
   "metadata": {},
   "outputs": [],
   "source": [
    "# First we reduce the data to two dimensions using PCA to capture variation\n",
    "pca = PCA(n_components=2)\n",
    "reduced_data = pca.fit_transform(X)\n",
    "#print(reduced_data[:10])  # print upto 10 elements"
   ]
  },
  {
   "cell_type": "code",
   "execution_count": 67,
   "metadata": {},
   "outputs": [
    {
     "data": {
      "text/plain": [
       "(9873, 2)"
      ]
     },
     "execution_count": 67,
     "metadata": {},
     "output_type": "execute_result"
    }
   ],
   "source": [
    "reduced_data.shape"
   ]
  },
  {
   "cell_type": "markdown",
   "metadata": {},
   "source": [
    "____"
   ]
  },
  {
   "cell_type": "markdown",
   "metadata": {},
   "source": [
    "# 2. Classification Modals"
   ]
  },
  {
   "cell_type": "code",
   "execution_count": 69,
   "metadata": {},
   "outputs": [],
   "source": [
    "import os\n",
    "from sklearn.tree import DecisionTreeClassifier, export_graphviz\n",
    "import pandas as pd\n",
    "import numpy as np\n",
    "\n",
    "from sklearn.model_selection import train_test_split\n",
    "from sklearn import model_selection, metrics\n",
    "from sklearn.ensemble import RandomForestClassifier\n",
    "from sklearn.naive_bayes import BernoulliNB\n",
    "from sklearn.neighbors import KNeighborsClassifier\n",
    "from sklearn.svm import SVC\n",
    "from sklearn.decomposition import PCA\n",
    "\n",
    "from time import time\n",
    "from sklearn.pipeline import Pipeline\n",
    "from sklearn.metrics import roc_auc_score , classification_report\n",
    "from sklearn.model_selection import GridSearchCV\n",
    "from sklearn.pipeline import Pipeline\n",
    "from sklearn.metrics import precision_score, recall_score, accuracy_score, classification_report"
   ]
  },
  {
   "cell_type": "code",
   "execution_count": 71,
   "metadata": {},
   "outputs": [
    {
     "name": "stdout",
     "output_type": "stream",
     "text": [
      "[[ 4.03558998 -0.58589872]\n",
      " [-1.95742879  0.57341377]\n",
      " [ 4.58515987 -0.71855315]\n",
      " [-2.03314468 -2.75786296]\n",
      " [-1.91854195 -2.7073702 ]\n",
      " [-2.01444889 -2.94259291]\n",
      " [-2.12392725 -2.57248311]\n",
      " [ 0.32256981  2.29440662]\n",
      " [-2.45099333  1.30024755]\n",
      " [ 3.68361949 -2.49138788]]\n"
     ]
    }
   ],
   "source": [
    "# First we reduce the data to two dimensions using PCA to capture variation\n",
    "pca = PCA(n_components=10)\n",
    "X = pca.fit_transform(X)\n",
    "print(reduced_data[:10])  # print upto 10 elements"
   ]
  },
  {
   "cell_type": "code",
   "execution_count": 72,
   "metadata": {},
   "outputs": [],
   "source": [
    "# split dataset to 60% training and 40% testing\n",
    "X_train, X_test, y_train, y_test = model_selection.train_test_split(X, y, test_size=0.4, random_state=0)"
   ]
  },
  {
   "cell_type": "code",
   "execution_count": 73,
   "metadata": {},
   "outputs": [
    {
     "name": "stdout",
     "output_type": "stream",
     "text": [
      "(5923, 10) (5923,) (3950, 10) (3950,)\n"
     ]
    }
   ],
   "source": [
    "print (X_train.shape, y_train.shape,X_test.shape, y_test.shape)"
   ]
  },
  {
   "cell_type": "markdown",
   "metadata": {},
   "source": [
    "### 2.1 Feature Scaling"
   ]
  },
  {
   "cell_type": "code",
   "execution_count": 74,
   "metadata": {},
   "outputs": [],
   "source": [
    "from sklearn.preprocessing import MinMaxScaler\n",
    "from sklearn.preprocessing import scale\n",
    "from sklearn.preprocessing import StandardScaler\n",
    "\n",
    "#1. MinMax Scaling\n",
    "min_max=MinMaxScaler()\n",
    "X_train_minmax=min_max.fit_transform(X_train)\n",
    "X_test_minmax =min_max.fit_transform(X_test)\n",
    "\n",
    "#2. Scale\n",
    "X_train_scale =scale(X_train)\n",
    "X_test_scale  =scale(X_test)\n",
    "\n",
    "#3. Standard Scaler\n",
    "X_train_Stdscaler = StandardScaler().fit_transform(X_train)\n",
    "X_test_Stdscaler = StandardScaler().fit_transform(X_test)"
   ]
  },
  {
   "cell_type": "markdown",
   "metadata": {},
   "source": [
    "___"
   ]
  },
  {
   "cell_type": "markdown",
   "metadata": {},
   "source": [
    "### 2.2 Decision Tree accuracy and time elapsed caculation"
   ]
  },
  {
   "cell_type": "code",
   "execution_count": 75,
   "metadata": {},
   "outputs": [],
   "source": [
    "dt = DecisionTreeClassifier(min_samples_split=20,random_state=99)\n",
    "# dt = DecisionTreeClassifier(min_samples_split=20,max_depth=5,random_state=99)"
   ]
  },
  {
   "cell_type": "code",
   "execution_count": 76,
   "metadata": {},
   "outputs": [
    {
     "name": "stdout",
     "output_type": "stream",
     "text": [
      "cross result========\n",
      "[0.77946383 0.76720648 0.76038501 0.7511404  0.78053725]\n",
      "0.7677465930284204\n",
      "time elapsed:  0.5085868835449219\n",
      "\n",
      "\n"
     ]
    }
   ],
   "source": [
    "tt0=time()\n",
    "\n",
    "print (\"cross result========\")\n",
    "scores = model_selection.cross_val_score(dt, X,y, cv=5)\n",
    "print (scores)\n",
    "print (scores.mean())\n",
    "tt1=time()\n",
    "print (\"time elapsed: \", tt1-tt0)\n",
    "print (\"\\n\")"
   ]
  },
  {
   "cell_type": "markdown",
   "metadata": {},
   "source": [
    "#### 2.2.1 Implementation 1"
   ]
  },
  {
   "cell_type": "code",
   "execution_count": 38,
   "metadata": {},
   "outputs": [
    {
     "name": "stdout",
     "output_type": "stream",
     "text": [
      "DecisionTree: Case-1: Normal Unprocessed Data\n",
      "Acurracy:  0.7346835443037975\n",
      "time elapsed:  0.07476687431335449\n"
     ]
    }
   ],
   "source": [
    "t0=time()\n",
    "print (\"DecisionTree: Case-1: Normal Unprocessed Data\")\n",
    "\n",
    "clf_dt1= dt.fit(X_train,y_train)\n",
    "\n",
    "print (\"Acurracy: \", clf_dt1.score(X_test,y_test))\n",
    "t1=time()\n",
    "print (\"time elapsed: \", t1-t0)"
   ]
  },
  {
   "cell_type": "markdown",
   "metadata": {},
   "source": [
    "#### 2.2.2 Implementation 2"
   ]
  },
  {
   "cell_type": "code",
   "execution_count": 39,
   "metadata": {},
   "outputs": [
    {
     "name": "stdout",
     "output_type": "stream",
     "text": [
      "DecisionTree: Case-2: MinMax Feature Scaling\n",
      "Acurracy:  0.609873417721519\n",
      "time elapsed:  0.0747992992401123\n"
     ]
    }
   ],
   "source": [
    "t0=time()\n",
    "print (\"DecisionTree: Case-2: MinMax Feature Scaling\")\n",
    "\n",
    "clf_dt2= dt.fit(X_train_minmax,y_train)\n",
    "\n",
    "print (\"Acurracy: \", clf_dt2.score(X_test_minmax,y_test))\n",
    "t1=time()\n",
    "print (\"time elapsed: \", t1-t0)"
   ]
  },
  {
   "cell_type": "markdown",
   "metadata": {},
   "source": [
    "#### 2.2.3 Implementation 3"
   ]
  },
  {
   "cell_type": "code",
   "execution_count": 40,
   "metadata": {},
   "outputs": [
    {
     "name": "stdout",
     "output_type": "stream",
     "text": [
      "DecisionTree: Case-3: Scale\n",
      "Acurracy:  0.6987341772151898\n",
      "time elapsed:  0.07480573654174805\n"
     ]
    }
   ],
   "source": [
    "t0=time()\n",
    "print (\"DecisionTree: Case-3: Scale\")\n",
    "\n",
    "clf_dt3= dt.fit(X_train_scale,y_train)\n",
    "\n",
    "print (\"Acurracy: \", clf_dt3.score(X_test_scale,y_test))\n",
    "t1=time()\n",
    "print (\"time elapsed: \", t1-t0)"
   ]
  },
  {
   "cell_type": "markdown",
   "metadata": {},
   "source": [
    "#### 2.2.4 Implementation 4"
   ]
  },
  {
   "cell_type": "code",
   "execution_count": 41,
   "metadata": {},
   "outputs": [
    {
     "name": "stdout",
     "output_type": "stream",
     "text": [
      "DecisionTree: Case-4: Standard Scaler\n",
      "Acurracy:  0.6987341772151898\n",
      "time elapsed:  0.0788259506225586\n"
     ]
    }
   ],
   "source": [
    "t0=time()\n",
    "print (\"DecisionTree: Case-4: Standard Scaler\")\n",
    "\n",
    "clf_dt4= dt.fit(X_train_Stdscaler,y_train)\n",
    "\n",
    "print (\"Acurracy: \", clf_dt4.score(X_test_Stdscaler,y_test))\n",
    "t1=time()\n",
    "print (\"time elapsed: \", t1-t0)"
   ]
  },
  {
   "cell_type": "markdown",
   "metadata": {},
   "source": [
    "___"
   ]
  },
  {
   "cell_type": "markdown",
   "metadata": {},
   "source": [
    "### 2.3 Random Forest accuracy and time elapsed caculation"
   ]
  },
  {
   "cell_type": "code",
   "execution_count": 77,
   "metadata": {},
   "outputs": [],
   "source": [
    "rf = RandomForestClassifier(n_estimators=100,n_jobs=-1)"
   ]
  },
  {
   "cell_type": "code",
   "execution_count": 78,
   "metadata": {},
   "outputs": [
    {
     "name": "stdout",
     "output_type": "stream",
     "text": [
      "cross result========\n",
      "[0.89074355 0.88866397 0.90020263 0.89406994 0.89863153]\n",
      "0.8944623245068\n",
      "time elapsed:  5.648023366928101\n",
      "\n",
      "\n"
     ]
    }
   ],
   "source": [
    "tt2=time()\n",
    "print (\"cross result========\")\n",
    "scores = model_selection.cross_val_score(rf, X,y, cv=5)\n",
    "print (scores)\n",
    "print (scores.mean())\n",
    "tt3=time()\n",
    "print (\"time elapsed: \", tt3-tt2)\n",
    "print (\"\\n\")"
   ]
  },
  {
   "cell_type": "markdown",
   "metadata": {},
   "source": [
    "#### 2.3.1 Implementation 1"
   ]
  },
  {
   "cell_type": "code",
   "execution_count": 44,
   "metadata": {},
   "outputs": [
    {
     "name": "stdout",
     "output_type": "stream",
     "text": [
      "RandomForest: Case-1 : Normal\n",
      "Acurracy:  0.8729113924050633\n",
      "time elapsed:  0.729156494140625\n"
     ]
    }
   ],
   "source": [
    "t2=time()\n",
    "print (\"RandomForest: Case-1 : Normal\")\n",
    "clf_rf1 = rf.fit(X_train,y_train)\n",
    "print (\"Acurracy: \", clf_rf1.score(X_test,y_test))\n",
    "t3=time()\n",
    "\n",
    "print (\"time elapsed: \", t3-t2)"
   ]
  },
  {
   "cell_type": "markdown",
   "metadata": {},
   "source": [
    "#### 2.3.2 Implementation 2"
   ]
  },
  {
   "cell_type": "code",
   "execution_count": 45,
   "metadata": {},
   "outputs": [
    {
     "name": "stdout",
     "output_type": "stream",
     "text": [
      "RandomForest: Case-2 : MinMax Feature Scaling\n",
      "Acurracy:  0.8058227848101266\n",
      "time elapsed:  0.6133718490600586\n"
     ]
    }
   ],
   "source": [
    "t2=time()\n",
    "print (\"RandomForest: Case-2 : MinMax Feature Scaling\")\n",
    "clf_rf2 = rf.fit(X_train_minmax,y_train)\n",
    "print (\"Acurracy: \", clf_rf2.score(X_test_minmax,y_test))\n",
    "t3=time()\n",
    "print (\"time elapsed: \", t3-t2)"
   ]
  },
  {
   "cell_type": "markdown",
   "metadata": {},
   "source": [
    "#### 2.3.3 Implementation 3"
   ]
  },
  {
   "cell_type": "code",
   "execution_count": 46,
   "metadata": {},
   "outputs": [
    {
     "name": "stdout",
     "output_type": "stream",
     "text": [
      "RandomForest: Case-3 : Scale\n",
      "Acurracy:  0.8559493670886076\n",
      "time elapsed:  0.5977821350097656\n"
     ]
    }
   ],
   "source": [
    "t2=time()\n",
    "print (\"RandomForest: Case-3 : Scale\")\n",
    "clf_rf3 = rf.fit(X_train_scale,y_train)\n",
    "print (\"Acurracy: \", clf_rf3.score(X_test_scale,y_test))\n",
    "t3=time()\n",
    "print (\"time elapsed: \", t3-t2)"
   ]
  },
  {
   "cell_type": "markdown",
   "metadata": {},
   "source": [
    "#### 2.3.4 Implementation 4"
   ]
  },
  {
   "cell_type": "code",
   "execution_count": 47,
   "metadata": {},
   "outputs": [
    {
     "name": "stdout",
     "output_type": "stream",
     "text": [
      "RandomForest: Case-2 : MinMax Feature Scaling\n",
      "Acurracy:  0.8562025316455696\n",
      "time elapsed:  0.5932793617248535\n"
     ]
    }
   ],
   "source": [
    "t2=time()\n",
    "print (\"RandomForest: Case-2 : MinMax Feature Scaling\")\n",
    "clf_rf4 = rf.fit(X_train_Stdscaler,y_train)\n",
    "print (\"Acurracy: \", clf_rf4.score(X_test_Stdscaler,y_test))\n",
    "t3=time()\n",
    "print (\"time elapsed: \", t3-t2)"
   ]
  },
  {
   "cell_type": "markdown",
   "metadata": {},
   "source": [
    "___"
   ]
  },
  {
   "cell_type": "markdown",
   "metadata": {},
   "source": [
    "### 2.4 Naive Bayes accuracy and time elapsed caculation\n"
   ]
  },
  {
   "cell_type": "code",
   "execution_count": 79,
   "metadata": {},
   "outputs": [],
   "source": [
    "nb = BernoulliNB()"
   ]
  },
  {
   "cell_type": "code",
   "execution_count": 80,
   "metadata": {},
   "outputs": [
    {
     "name": "stdout",
     "output_type": "stream",
     "text": [
      "cross result========\n",
      "[0.52503794 0.54149798 0.5177305  0.53117081 0.52052712]\n",
      "0.5271928660751497\n",
      "time elapsed:  0.03892874717712402\n",
      "\n",
      "\n"
     ]
    }
   ],
   "source": [
    "tt4=time()\n",
    "print (\"cross result========\")\n",
    "scores = model_selection.cross_val_score(nb, X,y, cv=5)\n",
    "print (scores)\n",
    "print (scores.mean())\n",
    "tt5=time()\n",
    "print (\"time elapsed: \", tt5-tt4)\n",
    "print (\"\\n\")"
   ]
  },
  {
   "cell_type": "code",
   "execution_count": 81,
   "metadata": {},
   "outputs": [
    {
     "name": "stdout",
     "output_type": "stream",
     "text": [
      "NaiveBayes\n",
      "Acurracy:  0.5278481012658228\n",
      "time elapsed:  0.0059833526611328125\n"
     ]
    }
   ],
   "source": [
    "t4=time()\n",
    "print (\"NaiveBayes\")\n",
    "clf_nb=nb.fit(X_train,y_train)\n",
    "print (\"Acurracy: \", clf_nb.score(X_test,y_test))\n",
    "t5=time()\n",
    "print (\"time elapsed: \", t5-t4)"
   ]
  },
  {
   "cell_type": "markdown",
   "metadata": {},
   "source": [
    "___"
   ]
  },
  {
   "cell_type": "markdown",
   "metadata": {},
   "source": [
    "### 2.5 KNN accuracy and time elapsed caculation"
   ]
  },
  {
   "cell_type": "code",
   "execution_count": 82,
   "metadata": {},
   "outputs": [
    {
     "name": "stdout",
     "output_type": "stream",
     "text": [
      "KNN\n",
      "Acurracy:  0.8111392405063291\n",
      "time elapsed:  0.1447436809539795\n"
     ]
    }
   ],
   "source": [
    "t6=time()\n",
    "print (\"KNN\")\n",
    "# knn = KNeighborsClassifier(n_neighbors=3)\n",
    "knn = KNeighborsClassifier()\n",
    "clf_knn=knn.fit(X_train, y_train)\n",
    "print (\"Acurracy: \", clf_knn.score(X_test,y_test) )\n",
    "t7=time()\n",
    "print (\"time elapsed: \", t7-t6)"
   ]
  },
  {
   "cell_type": "code",
   "execution_count": 83,
   "metadata": {},
   "outputs": [
    {
     "name": "stdout",
     "output_type": "stream",
     "text": [
      "cross result========\n",
      "[0.83459788 0.83198381 0.84549139 0.85250887 0.85504308]\n",
      "0.8439250041249544\n",
      "time elapsed:  0.36234116554260254\n",
      "\n",
      "\n"
     ]
    }
   ],
   "source": [
    "tt6=time()\n",
    "print (\"cross result========\")\n",
    "scores = model_selection.cross_val_score(clf_knn, X,y, cv=5)\n",
    "print (scores)\n",
    "print (scores.mean())\n",
    "tt7=time()\n",
    "print (\"time elapsed: \", tt7-tt6)\n",
    "print (\"\\n\")"
   ]
  },
  {
   "cell_type": "markdown",
   "metadata": {},
   "source": [
    "___"
   ]
  },
  {
   "cell_type": "markdown",
   "metadata": {},
   "source": [
    "### 2.6 SVM Accuracy and Time Elapsed Calculation"
   ]
  },
  {
   "cell_type": "markdown",
   "metadata": {},
   "source": [
    "#### 2.6.1 SVM with a Linear Kernel "
   ]
  },
  {
   "cell_type": "code",
   "execution_count": 84,
   "metadata": {},
   "outputs": [
    {
     "name": "stdout",
     "output_type": "stream",
     "text": [
      "SVM\n"
     ]
    },
    {
     "name": "stderr",
     "output_type": "stream",
     "text": [
      "C:\\Users\\Dell\\Anaconda3\\lib\\site-packages\\sklearn\\svm\\base.py:193: FutureWarning: The default value of gamma will change from 'auto' to 'scale' in version 0.22 to account better for unscaled features. Set gamma explicitly to 'auto' or 'scale' to avoid this warning.\n",
      "  \"avoid this warning.\", FutureWarning)\n"
     ]
    },
    {
     "name": "stdout",
     "output_type": "stream",
     "text": [
      "Acurracy:  0.5273417721518987\n",
      "time elapsed:  1.7020576000213623\n"
     ]
    }
   ],
   "source": [
    "t7=time()\n",
    "print (\"SVM\")\n",
    "\n",
    "svc = SVC()\n",
    "clf_svc=svc.fit(X_train_minmax, y_train)\n",
    "print (\"Acurracy: \", clf_svc.score(X_test_minmax,y_test) )\n",
    "t8=time()\n",
    "print (\"time elapsed: \", t8-t7)"
   ]
  },
  {
   "cell_type": "code",
   "execution_count": 85,
   "metadata": {},
   "outputs": [
    {
     "name": "stdout",
     "output_type": "stream",
     "text": [
      "cross result========\n"
     ]
    },
    {
     "name": "stderr",
     "output_type": "stream",
     "text": [
      "C:\\Users\\Dell\\Anaconda3\\lib\\site-packages\\sklearn\\svm\\base.py:193: FutureWarning: The default value of gamma will change from 'auto' to 'scale' in version 0.22 to account better for unscaled features. Set gamma explicitly to 'auto' or 'scale' to avoid this warning.\n",
      "  \"avoid this warning.\", FutureWarning)\n",
      "C:\\Users\\Dell\\Anaconda3\\lib\\site-packages\\sklearn\\svm\\base.py:193: FutureWarning: The default value of gamma will change from 'auto' to 'scale' in version 0.22 to account better for unscaled features. Set gamma explicitly to 'auto' or 'scale' to avoid this warning.\n",
      "  \"avoid this warning.\", FutureWarning)\n",
      "C:\\Users\\Dell\\Anaconda3\\lib\\site-packages\\sklearn\\svm\\base.py:193: FutureWarning: The default value of gamma will change from 'auto' to 'scale' in version 0.22 to account better for unscaled features. Set gamma explicitly to 'auto' or 'scale' to avoid this warning.\n",
      "  \"avoid this warning.\", FutureWarning)\n",
      "C:\\Users\\Dell\\Anaconda3\\lib\\site-packages\\sklearn\\svm\\base.py:193: FutureWarning: The default value of gamma will change from 'auto' to 'scale' in version 0.22 to account better for unscaled features. Set gamma explicitly to 'auto' or 'scale' to avoid this warning.\n",
      "  \"avoid this warning.\", FutureWarning)\n",
      "C:\\Users\\Dell\\Anaconda3\\lib\\site-packages\\sklearn\\svm\\base.py:193: FutureWarning: The default value of gamma will change from 'auto' to 'scale' in version 0.22 to account better for unscaled features. Set gamma explicitly to 'auto' or 'scale' to avoid this warning.\n",
      "  \"avoid this warning.\", FutureWarning)\n"
     ]
    },
    {
     "name": "stdout",
     "output_type": "stream",
     "text": [
      "[0.65351543 0.65637652 0.64690983 0.65027876 0.66092245]\n",
      "0.6536005979632967\n",
      "time elapsed:  9.337402582168579\n",
      "\n",
      "\n"
     ]
    }
   ],
   "source": [
    "tt7=time()\n",
    "print (\"cross result========\")\n",
    "scores = model_selection.cross_val_score(clf_svc, X,y, cv=5)\n",
    "print (scores)\n",
    "print (scores.mean())\n",
    "tt8=time()\n",
    "print (\"time elapsed: \", tt8-tt7)\n",
    "print (\"\\n\")"
   ]
  },
  {
   "cell_type": "markdown",
   "metadata": {},
   "source": [
    "#### 2.6.2 SVM with Multiple Kernels "
   ]
  },
  {
   "cell_type": "code",
   "execution_count": 86,
   "metadata": {},
   "outputs": [
    {
     "name": "stderr",
     "output_type": "stream",
     "text": [
      "C:\\Users\\Dell\\Anaconda3\\lib\\site-packages\\sklearn\\model_selection\\_split.py:1978: FutureWarning: The default value of cv will change from 3 to 5 in version 0.22. Specify it explicitly to silence this warning.\n",
      "  warnings.warn(CV_WARNING, FutureWarning)\n",
      "[Parallel(n_jobs=-1)]: Using backend LokyBackend with 8 concurrent workers.\n"
     ]
    },
    {
     "name": "stdout",
     "output_type": "stream",
     "text": [
      "Fitting 3 folds for each of 6 candidates, totalling 18 fits\n"
     ]
    },
    {
     "name": "stderr",
     "output_type": "stream",
     "text": [
      "[Parallel(n_jobs=-1)]: Done  18 out of  18 | elapsed:  3.0min finished\n",
      "C:\\Users\\Dell\\Anaconda3\\lib\\site-packages\\sklearn\\svm\\base.py:193: FutureWarning: The default value of gamma will change from 'auto' to 'scale' in version 0.22 to account better for unscaled features. Set gamma explicitly to 'auto' or 'scale' to avoid this warning.\n",
      "  \"avoid this warning.\", FutureWarning)\n"
     ]
    },
    {
     "name": "stdout",
     "output_type": "stream",
     "text": [
      "Best score: 0.751\n",
      "Best parameters set:\n",
      "\tC: 100\n",
      "\tkernel: 'rbf'\n",
      "              precision    recall  f1-score   support\n",
      "\n",
      "           0       0.80      0.98      0.88      1070\n",
      "           1       0.68      0.66      0.67       392\n",
      "           2       0.65      0.61      0.63       823\n",
      "           3       0.77      0.46      0.58       437\n",
      "           4       0.84      0.83      0.83      1228\n",
      "\n",
      "    accuracy                           0.77      3950\n",
      "   macro avg       0.75      0.71      0.72      3950\n",
      "weighted avg       0.76      0.77      0.76      3950\n",
      "\n"
     ]
    }
   ],
   "source": [
    "from sklearn.svm import SVC\n",
    "from sklearn.model_selection import cross_val_score\n",
    "from sklearn.pipeline import Pipeline\n",
    "from sklearn import model_selection\n",
    "\n",
    "svc = SVC()\n",
    "\n",
    "parameters = {'kernel':('linear', 'rbf'), 'C':[1, 10, 100]}\n",
    "\n",
    "grid = model_selection.GridSearchCV(svc, parameters, n_jobs=-1, verbose=1, scoring='accuracy')\n",
    "\n",
    "\n",
    "grid.fit(X_train, y_train)\n",
    "\n",
    "print ('Best score: %0.3f' % grid.best_score_)\n",
    "\n",
    "print ('Best parameters set:')\n",
    "best_parameters = grid.best_estimator_.get_params()\n",
    "\n",
    "for param_name in sorted(parameters.keys()):\n",
    "    print ('\\t%s: %r' % (param_name, best_parameters[param_name]))\n",
    "    \n",
    "predictions = grid.predict(X_test)\n",
    "print (classification_report(y_test, predictions))"
   ]
  },
  {
   "cell_type": "code",
   "execution_count": 87,
   "metadata": {},
   "outputs": [
    {
     "name": "stderr",
     "output_type": "stream",
     "text": [
      "C:\\Users\\Dell\\Anaconda3\\lib\\site-packages\\sklearn\\model_selection\\_split.py:1978: FutureWarning: The default value of cv will change from 3 to 5 in version 0.22. Specify it explicitly to silence this warning.\n",
      "  warnings.warn(CV_WARNING, FutureWarning)\n",
      "[Parallel(n_jobs=-1)]: Using backend LokyBackend with 8 concurrent workers.\n"
     ]
    },
    {
     "name": "stdout",
     "output_type": "stream",
     "text": [
      "Fitting 3 folds for each of 30 candidates, totalling 90 fits\n"
     ]
    },
    {
     "name": "stderr",
     "output_type": "stream",
     "text": [
      "[Parallel(n_jobs=-1)]: Done  34 tasks      | elapsed:    5.0s\n",
      "[Parallel(n_jobs=-1)]: Done  90 out of  90 | elapsed:   11.3s finished\n"
     ]
    },
    {
     "name": "stdout",
     "output_type": "stream",
     "text": [
      "Best score: 0.824\n",
      "Best parameters set:\n",
      "\tclf__C: 30\n",
      "\tclf__gamma: 1\n",
      "              precision    recall  f1-score   support\n",
      "\n",
      "           0       0.87      0.97      0.92      1070\n",
      "           1       0.77      0.84      0.80       392\n",
      "           2       0.79      0.78      0.78       823\n",
      "           3       0.86      0.68      0.76       437\n",
      "           4       0.93      0.88      0.90      1228\n",
      "\n",
      "    accuracy                           0.86      3950\n",
      "   macro avg       0.84      0.83      0.83      3950\n",
      "weighted avg       0.86      0.86      0.86      3950\n",
      "\n"
     ]
    }
   ],
   "source": [
    "pipeline = Pipeline([\n",
    "    ('clf', SVC(kernel='rbf', gamma=0.01, C=100))\n",
    "])\n",
    "\n",
    "parameters = {\n",
    "    'clf__gamma': (0.01, 0.03, 0.1, 0.3, 1),\n",
    "    'clf__C': (0.1, 0.3, 1, 3, 10, 30),\n",
    "}\n",
    "\n",
    "grid_search = GridSearchCV(pipeline, parameters, n_jobs=-1, verbose=1, scoring='accuracy')\n",
    "\n",
    "grid_search.fit(X_train, y_train)\n",
    "\n",
    "print ('Best score: %0.3f' % grid_search.best_score_)\n",
    "\n",
    "print ('Best parameters set:')\n",
    "best_parameters = grid_search.best_estimator_.get_params()\n",
    "\n",
    "for param_name in sorted(parameters.keys()):\n",
    "    print ('\\t%s: %r' % (param_name, best_parameters[param_name]))\n",
    "    \n",
    "predictions = grid_search.predict(X_test)\n",
    "print (classification_report(y_test, predictions))"
   ]
  },
  {
   "cell_type": "markdown",
   "metadata": {},
   "source": [
    "___"
   ]
  },
  {
   "cell_type": "markdown",
   "metadata": {},
   "source": [
    "### 2.7 Leveraging weak learners via adaptive boosting"
   ]
  },
  {
   "cell_type": "code",
   "execution_count": 89,
   "metadata": {},
   "outputs": [
    {
     "name": "stdout",
     "output_type": "stream",
     "text": [
      "Decision tree train/test accuracies 0.414/0.410\n",
      "AdaBoost train/test accuracies 0.574/0.561\n"
     ]
    }
   ],
   "source": [
    "from sklearn.ensemble import AdaBoostClassifier\n",
    "\n",
    "tree = DecisionTreeClassifier(criterion='entropy', \n",
    "                              max_depth=1)\n",
    "\n",
    "ada = AdaBoostClassifier(base_estimator=tree,\n",
    "                         n_estimators=500, \n",
    "                         learning_rate=0.1,\n",
    "                         random_state=0)\n",
    "\n",
    "tree = tree.fit(X_train, y_train)\n",
    "y_train_pred = tree.predict(X_train)\n",
    "y_test_pred = tree.predict(X_test)\n",
    "\n",
    "tree_train = accuracy_score(y_train, y_train_pred)\n",
    "tree_test = accuracy_score(y_test, y_test_pred)\n",
    "print('Decision tree train/test accuracies %.3f/%.3f'\n",
    "      % (tree_train, tree_test))\n",
    "\n",
    "ada = ada.fit(X_train, y_train)\n",
    "y_train_pred = ada.predict(X_train)\n",
    "y_test_pred = ada.predict(X_test)\n",
    "\n",
    "ada_train = accuracy_score(y_train, y_train_pred) \n",
    "ada_test = accuracy_score(y_test, y_test_pred) \n",
    "print('AdaBoost train/test accuracies %.3f/%.3f'\n",
    "      % (ada_train, ada_test))"
   ]
  },
  {
   "cell_type": "markdown",
   "metadata": {
    "collapsed": true
   },
   "source": [
    "___"
   ]
  }
 ],
 "metadata": {
  "kernelspec": {
   "display_name": "Python 3",
   "language": "python",
   "name": "python3"
  },
  "language_info": {
   "codemirror_mode": {
    "name": "ipython",
    "version": 3
   },
   "file_extension": ".py",
   "mimetype": "text/x-python",
   "name": "python",
   "nbconvert_exporter": "python",
   "pygments_lexer": "ipython3",
   "version": "3.7.4"
  }
 },
 "nbformat": 4,
 "nbformat_minor": 1
}
